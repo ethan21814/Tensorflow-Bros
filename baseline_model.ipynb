{
  "nbformat": 4,
  "nbformat_minor": 0,
  "metadata": {
    "colab": {
      "name": "baseline model.ipynb",
      "provenance": [],
      "toc_visible": true
    },
    "kernelspec": {
      "name": "python3",
      "display_name": "Python 3"
    },
    "accelerator": "GPU"
  },
  "cells": [
    {
      "cell_type": "markdown",
      "metadata": {
        "id": "e85oB0bsVlP7"
      },
      "source": [
        "# Baseline Model (2/18 - 2/21)\r\n"
      ]
    },
    {
      "cell_type": "code",
      "metadata": {
        "id": "KOFnq7PTk1Wt"
      },
      "source": [
        "# imported useful libraries \n",
        "import numpy as np\n",
        "import pandas as pd\n",
        "from zipfile import ZipFile\n",
        "from PIL import Image\n",
        "import glob\n",
        "import os\n",
        "import matplotlib.pyplot as plt"
      ],
      "execution_count": null,
      "outputs": []
    },
    {
      "cell_type": "code",
      "metadata": {
        "id": "ci6TGTHdpbXl"
      },
      "source": [
        "!fusermount -u drive\r\n",
        "!google-drive-ocamlfuse drive"
      ],
      "execution_count": null,
      "outputs": []
    },
    {
      "cell_type": "code",
      "metadata": {
        "id": "TxW92oVPm6GH"
      },
      "source": [
        "# mount drive\n",
        "\n",
        "from google.colab import drive\n",
        "drive.mount(\"/content/drive\", force_remount=True)"
      ],
      "execution_count": null,
      "outputs": []
    },
    {
      "cell_type": "code",
      "metadata": {
        "id": "7zVgGeAE7aWr"
      },
      "source": [
        "# set up environment \n",
        "\n",
        "os.environ['KAGGLE_CONFIG_DIR'] = \"/content/drive/MyDrive/TensorFlow_Bros/Kaggle\""
      ],
      "execution_count": null,
      "outputs": []
    },
    {
      "cell_type": "code",
      "metadata": {
        "id": "Xc67HcLo7ufR"
      },
      "source": [
        "# change directory of Kaggle folder\r\n",
        "\r\n",
        "%cd /content/drive/MyDrive/TensorFlow_Bros/Kaggle"
      ],
      "execution_count": null,
      "outputs": []
    },
    {
      "cell_type": "code",
      "metadata": {
        "id": "Q4EZhxwa_ZdP"
      },
      "source": [
        "# update API\r\n",
        "\r\n",
        "!pip install --upgrade --force-reinstall --no-deps kaggle"
      ],
      "execution_count": null,
      "outputs": []
    },
    {
      "cell_type": "code",
      "metadata": {
        "id": "8Cn7wdY48v2k"
      },
      "source": [
        "# download competition data\r\n",
        "\r\n",
        "!kaggle competitions download -c cassava-leaf-disease-classification "
      ],
      "execution_count": null,
      "outputs": []
    },
    {
      "cell_type": "code",
      "metadata": {
        "id": "lhPIsKoIFB3M"
      },
      "source": [
        "# path for convenience\r\n",
        "\r\n",
        "path = \"/content/drive/MyDrive/TensorFlow_Bros/Kaggle/\""
      ],
      "execution_count": null,
      "outputs": []
    },
    {
      "cell_type": "code",
      "metadata": {
        "id": "pvEGvmjiFNlB"
      },
      "source": [
        "# extract all elements of competition data\r\n",
        "\r\n",
        "original_data = ZipFile(path + \"cassava-leaf-disease-classification.zip\", 'r')\r\n",
        "original_data.extractall()"
      ],
      "execution_count": null,
      "outputs": []
    },
    {
      "cell_type": "code",
      "metadata": {
        "id": "rt5rmf-9vubY"
      },
      "source": [
        "# convert labels into data frame\n",
        "\n",
        "from pandas import DataFrame\n",
        "original_labels = DataFrame(pd.read_csv(path + \"train.csv\", header=0, sep=',', quotechar='\"'))\n",
        "\n",
        "diseases = ['Cassava Bacterial Blight (CBB)', 'Cassava Brown Streak Disease (CBSD)', \n",
        "           'Cassava Green Mottle (CGM)', 'Cassava Mosaic Disease (CMD)', 'Healthy']\n",
        "\n",
        "original_labels['disease_classification'] = [diseases[i] for i in original_labels['label']]\n",
        "\n",
        "original_labels.label.value_counts()"
      ],
      "execution_count": null,
      "outputs": []
    },
    {
      "cell_type": "code",
      "metadata": {
        "id": "UhbqqZWGtIFv"
      },
      "source": [
        "original_labels"
      ],
      "execution_count": null,
      "outputs": []
    },
    {
      "cell_type": "code",
      "metadata": {
        "id": "suVq5WgLG_2S"
      },
      "source": [
        "# load training images into a list and keeping track of label indices\n",
        "\n",
        "images = []\n",
        "#label_indices = []\n",
        "\n",
        "for filename in glob.glob(path + 'train_images/*.jpg'):\n",
        "  im=Image.open(filename)\n",
        "  images.append(im)\n",
        "  #label_indices.append(original_labels.loc[original_labels['image_id'] == filename.rsplit('/',1)[1]].index[0])"
      ],
      "execution_count": null,
      "outputs": []
    },
    {
      "cell_type": "code",
      "metadata": {
        "id": "aWG6BZhdpORz"
      },
      "source": [
        "# list of training labels\r\n",
        "\r\n",
        "train_labels = np.array(original_labels[\"label\"])\r\n",
        "train_labels"
      ],
      "execution_count": null,
      "outputs": []
    },
    {
      "cell_type": "code",
      "metadata": {
        "id": "Jj6_mwnYVoiu"
      },
      "source": [
        "# set dimensions of resized images\r\n",
        "\r\n",
        "width = 200\r\n",
        "height = 150\r\n",
        "\r\n",
        "# resize images\r\n",
        "\r\n",
        "for i in range(len(images)):\r\n",
        "  images[i] = images[i].resize((width, height))\r\n",
        "  images[i] = np.array(images[i])"
      ],
      "execution_count": null,
      "outputs": []
    },
    {
      "cell_type": "code",
      "metadata": {
        "id": "SIUnu8q5kknO"
      },
      "source": [
        "# training data ready to be input into model\r\n",
        "\r\n",
        "train_images = images # training images\r\n",
        "train_labels #training _labels"
      ],
      "execution_count": null,
      "outputs": []
    },
    {
      "cell_type": "code",
      "metadata": {
        "id": "VSFXwzrwWnVu"
      },
      "source": [
        "# bar graph of training label classes\r\n",
        "\r\n",
        "fig = plt.figure()\r\n",
        "ax = fig.add_axes([0,0,1,1])\r\n",
        "diseases = ['CBB', 'CBSD', \r\n",
        "           'CGM', 'CMD', 'Healthy']\r\n",
        "disease_counts = original_labels.label.value_counts()\r\n",
        "ax.bar(diseases, disease_counts)\r\n",
        "plt.title(\"Training Label Classes - Leaf Disease Categories\")\r\n",
        "plt.show()"
      ],
      "execution_count": null,
      "outputs": []
    },
    {
      "cell_type": "code",
      "metadata": {
        "id": "-585Wa3cueSv"
      },
      "source": [
        "original_labels[original_labels['label'] == 4]"
      ],
      "execution_count": null,
      "outputs": []
    },
    {
      "cell_type": "code",
      "metadata": {
        "id": "ksPco73CTeoN"
      },
      "source": [
        "# majority classifier baseline model\n",
        "\n",
        "preds = []\n",
        "sample_sub = pd.read_csv('/kaggle/input/cassava-leaf-disease-classification/sample_submission.csv')\n",
        "\n",
        "for image in sample_sub.image_id:\n",
        "\n",
        "    img = keras.preprocessing.image.load_img('/kaggle/input/cassava-leaf-disease-classification/test_images/' + image)\n",
        "\n",
        "    preds.append(np.random.choice(5, p=[0, 0, 0, 1, 0])) \n",
        "    # always predict class 3 which is the most abundant class\n",
        "\n",
        "my_submission = pd.DataFrame({'image_id': sample_sub.image_id, 'label': preds})\n",
        "my_submission.to_csv('/kaggle/working/submission.csv', index=False)"
      ],
      "execution_count": null,
      "outputs": []
    }
  ]
}