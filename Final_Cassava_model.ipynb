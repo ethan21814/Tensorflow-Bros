{
  "nbformat": 4,
  "nbformat_minor": 0,
  "metadata": {
    "accelerator": "GPU",
    "colab": {
      "name": "Final Cassava model.ipynb",
      "provenance": [],
      "collapsed_sections": [],
      "machine_shape": "hm"
    },
    "kernelspec": {
      "display_name": "Python 3",
      "name": "python3"
    }
  },
  "cells": [
    {
      "cell_type": "code",
      "metadata": {
        "colab": {
          "base_uri": "https://localhost:8080/"
        },
        "id": "3NCuQ7rfUMCt",
        "outputId": "f2ca0852-5be3-4f0e-ba7a-88424bde0e26"
      },
      "source": [
        "# import packages\n",
        "import math, re, os, random, cv2\n",
        "import tensorflow as tf\n",
        "import numpy as np\n",
        "import pandas as pd\n",
        "import matplotlib.pyplot as plt\n",
        "from tensorflow import keras\n",
        "from functools import partial\n",
        "from sklearn.model_selection import train_test_split\n",
        "print(\"Tensorflow version \" + tf.__version__)"
      ],
      "execution_count": null,
      "outputs": [
        {
          "output_type": "stream",
          "text": [
            "Tensorflow version 2.4.1\n"
          ],
          "name": "stdout"
        }
      ]
    },
    {
      "cell_type": "code",
      "metadata": {
        "colab": {
          "base_uri": "https://localhost:8080/"
        },
        "id": "6OiXUj63335k",
        "outputId": "44cc6482-1101-4f2d-84df-e336ace23d63"
      },
      "source": [
        "# testing TPU\n",
        "try:\n",
        "    tpu = tf.distribute.cluster_resolver.TPUClusterResolver()\n",
        "    print('Device:', tpu.master())\n",
        "    tf.config.experimental_connect_to_cluster(tpu)\n",
        "    tf.tpu.experimental.initialize_tpu_system(tpu)\n",
        "    strategy = tf.distribute.experimental.TPUStrategy(tpu)\n",
        "except:\n",
        "    strategy = tf.distribute.get_strategy()\n",
        "print('Number of replicas:', strategy.num_replicas_in_sync)"
      ],
      "execution_count": null,
      "outputs": [
        {
          "output_type": "stream",
          "text": [
            "Number of replicas: 1\n"
          ],
          "name": "stdout"
        }
      ]
    },
    {
      "cell_type": "code",
      "metadata": {
        "id": "u3weuHqT359X"
      },
      "source": [
        "# setting hyperparameters\n",
        "AUTOTUNE = tf.data.experimental.AUTOTUNE\n",
        "BATCH_SIZE = 16 * strategy.num_replicas_in_sync\n",
        "IMAGE_SIZE = [224, 224]\n",
        "CLASSES = ['0', '1', '2', '3', '4']\n",
        "EPOCHS = 100\n",
        "LR = 0.0001"
      ],
      "execution_count": null,
      "outputs": []
    },
    {
      "cell_type": "code",
      "metadata": {
        "colab": {
          "base_uri": "https://localhost:8080/"
        },
        "id": "wykYnGJe5XB4",
        "outputId": "1cb73372-7a83-42a8-a375-50f4fc147ea5"
      },
      "source": [
        "# mount drive\n",
        "from google.colab import drive\n",
        "drive.mount(\"/content/drive\", force_remount=True)"
      ],
      "execution_count": null,
      "outputs": [
        {
          "output_type": "stream",
          "text": [
            "Mounted at /content/drive\n"
          ],
          "name": "stdout"
        }
      ]
    },
    {
      "cell_type": "code",
      "metadata": {
        "id": "u3bVDLFC5bro"
      },
      "source": [
        "path = \"/content/drive/MyDrive/TensorFlow_Bros/Kaggle\""
      ],
      "execution_count": null,
      "outputs": []
    },
    {
      "cell_type": "code",
      "metadata": {
        "id": "1ZVqhXsYxl2l"
      },
      "source": [
        "# split data into training and validation data\n",
        "training_filenames, valid_filenames = train_test_split(\n",
        "    tf.io.gfile.glob(path + '/train_tfrecords/ld_train*.tfrec'),\n",
        "    test_size=0.2, random_state=5\n",
        ")"
      ],
      "execution_count": null,
      "outputs": []
    },
    {
      "cell_type": "code",
      "metadata": {
        "id": "XgR2JTi139mZ"
      },
      "source": [
        "# define functions to process TFRecords data using below website\n",
        "# https://www.kaggle.com/jsmithperera/cassava-inference\n",
        "\n",
        "def decode_image(image):\n",
        "    image = tf.image.decode_jpeg(image, channels=3)\n",
        "    image = tf.cast(image, tf.float32) / 255.0\n",
        "    image = tf.image.resize(image, IMAGE_SIZE)\n",
        "    image = tf.reshape(image, [*IMAGE_SIZE, 3])\n",
        "    return image\n",
        "\n",
        "def read_tfrecord(example, labeled):\n",
        "    tfrecord_format = {\n",
        "        \"image\": tf.io.FixedLenFeature([], tf.string),\n",
        "        \"target\": tf.io.FixedLenFeature([], tf.int64)\n",
        "    } if labeled else {\n",
        "        \"image\": tf.io.FixedLenFeature([], tf.string),\n",
        "        \"image_name\": tf.io.FixedLenFeature([], tf.string)\n",
        "    }\n",
        "    example = tf.io.parse_single_example(example, tfrecord_format)\n",
        "    image = decode_image(example['image'])\n",
        "    if labeled:\n",
        "        label = tf.cast(example['target'], tf.int32)\n",
        "        return image, label\n",
        "    idnum = example['image_name']\n",
        "    return image, idnum\n",
        "\n",
        "def load_dataset(filenames, labeled=True, ordered=False):\n",
        "    ignore_order = tf.data.Options()\n",
        "    if not ordered:\n",
        "        ignore_order.experimental_deterministic = False # disable order, increase speed\n",
        "    dataset = tf.data.TFRecordDataset(filenames, num_parallel_reads=AUTOTUNE) # automatically interleaves reads from multiple files\n",
        "    dataset = dataset.with_options(ignore_order) # uses data as soon as it streams in, rather than in its original order\n",
        "    dataset = dataset.map(partial(read_tfrecord, labeled=labeled), num_parallel_calls=AUTOTUNE)\n",
        "    return dataset\n",
        "\n",
        "def data_augment(image, label):\n",
        "    image = tf.image.random_brightness(image, max_delta=0.5)\n",
        "    image = tf.image.random_hue(image, 0.08)\n",
        "    image = tf.image.random_saturation(image, 0.8, 1.2)\n",
        "    image = tf.image.random_contrast(image, 0.8, 1.2)\n",
        "    return image, label"
      ],
      "execution_count": null,
      "outputs": []
    },
    {
      "cell_type": "code",
      "metadata": {
        "id": "oONWd-85C78r"
      },
      "source": [
        "# functions to get training, validation, and testing data set\n",
        "# https://www.kaggle.com/jsmithperera/cassava-inference\n",
        "\n",
        "def get_test_dataset(ordered=False):\n",
        "    dataset = load_dataset(TEST_FILENAMES, labeled=False, ordered=ordered)\n",
        "    dataset = dataset.batch(BATCH_SIZE)\n",
        "    dataset = dataset.prefetch(AUTOTUNE)\n",
        "    return dataset\n",
        "\n",
        "def get_training_dataset():\n",
        "    dataset = load_dataset(training_filenames, labeled=True)  \n",
        "    dataset = dataset.map(data_augment, num_parallel_calls=AUTOTUNE)  \n",
        "    dataset = dataset.repeat()\n",
        "    dataset = dataset.shuffle(2048)\n",
        "    dataset = dataset.batch(BATCH_SIZE)\n",
        "    dataset = dataset.prefetch(AUTOTUNE)\n",
        "    return dataset\n",
        "\n",
        "def get_validation_dataset(ordered=False):\n",
        "    dataset = load_dataset(valid_filenames, labeled=True, ordered=ordered) \n",
        "    dataset = dataset.batch(BATCH_SIZE)\n",
        "    dataset = dataset.cache()\n",
        "    dataset = dataset.prefetch(AUTOTUNE)\n",
        "    return dataset"
      ],
      "execution_count": null,
      "outputs": []
    },
    {
      "cell_type": "code",
      "metadata": {
        "colab": {
          "base_uri": "https://localhost:8080/"
        },
        "id": "JxIibnsPZdgi",
        "outputId": "872be733-3581-4e42-9177-08193baf0477"
      },
      "source": [
        "def count_data_items(filenames):\n",
        "    n = [int(re.compile(r\"-([0-9]*)\\.\").search(filename).group(1)) for filename in filenames]\n",
        "    return np.sum(n)\n",
        "\n",
        "NUM_TRAINING_IMAGES = count_data_items(training_filenames)\n",
        "NUM_VALIDATION_IMAGES = count_data_items(valid_filenames)\n",
        "\n",
        "print('Dataset: {} training images, {} validation images'.format(\n",
        "    NUM_TRAINING_IMAGES, NUM_VALIDATION_IMAGES))"
      ],
      "execution_count": null,
      "outputs": [
        {
          "output_type": "stream",
          "text": [
            "Dataset: 16045 training images, 5352 validation images\n"
          ],
          "name": "stdout"
        }
      ]
    },
    {
      "cell_type": "code",
      "metadata": {
        "id": "kn6EE6j78Vdw"
      },
      "source": [
        "# import packages for model construction\n",
        "from tensorflow.keras.applications.resnet50 import ResNet50\n",
        "from keras.preprocessing import image\n",
        "from keras.applications.resnet50 import preprocess_input, decode_predictions\n",
        "from tensorflow.keras.models import load_model\n",
        "from keras.callbacks import LearningRateScheduler\n",
        "from keras.layers import Dense, Dropout, Input, MaxPooling2D, ZeroPadding2D, Conv2D, Flatten\n",
        "from keras.models import Sequential, Model\n",
        "from keras.losses import categorical_crossentropy\n",
        "from keras.optimizers import Adam, SGD\n",
        "from keras.preprocessing.image import img_to_array, load_img, ImageDataGenerator\n",
        "from keras.utils import to_categorical\n",
        "from tensorflow.keras import regularizers\n",
        "from tensorflow.keras.layers import MaxPool2D, AveragePooling2D, GlobalAveragePooling2D, GlobalMaxPooling2D\n",
        "from tensorflow.keras.layers import Activation, BatchNormalization\n",
        "from sklearn.model_selection import train_test_split"
      ],
      "execution_count": null,
      "outputs": []
    },
    {
      "cell_type": "code",
      "metadata": {
        "id": "tNG_e8SobYLS"
      },
      "source": [
        "# more data augmentation\n",
        "data_augmentation = tf.keras.Sequential([\n",
        "  tf.keras.layers.experimental.preprocessing.RandomFlip(\n",
        "      mode='horizontal_and_vertical'),\n",
        "  tf.keras.layers.experimental.preprocessing.RandomRotation(\n",
        "      factor=(-0.125,0.125)),\n",
        "])"
      ],
      "execution_count": null,
      "outputs": []
    },
    {
      "cell_type": "code",
      "metadata": {
        "id": "QfEToHSHcUgT"
      },
      "source": [
        "# early stopping condition\n",
        "callback = tf.keras.callbacks.EarlyStopping(monitor='val_loss', patience=10,\n",
        "                                            restore_best_weights=True)"
      ],
      "execution_count": null,
      "outputs": []
    },
    {
      "cell_type": "code",
      "metadata": {
        "id": "0fYhBVnxeS14",
        "colab": {
          "base_uri": "https://localhost:8080/"
        },
        "outputId": "5c1d3322-dffe-42db-a32c-51b6fae3d815"
      },
      "source": [
        "# function to build model\n",
        "def build_model():\n",
        "\n",
        "  inputshape = (224, 224, 3) # input size\n",
        "  inputs = tf.keras.Input(shape=inputshape)\n",
        "\n",
        "  x = data_augmentation(inputs) # apply data augmentation\n",
        "\n",
        "  base_model = ResNet50(weights = 'imagenet', include_top = False, \n",
        "                        input_shape=inputshape) # load base model\n",
        "  \n",
        "  # add layers to base model\n",
        "  x = base_model(x)\n",
        "  model = GlobalAveragePooling2D()(x)\n",
        "  model = Dense(512,activation='relu',kernel_initializer='he_normal',kernel_regularizer=regularizers.l2(0.001))(model)\n",
        "  model = BatchNormalization()(model)\n",
        "  model = Dense(128,activation='relu',kernel_initializer='he_normal',kernel_regularizer=regularizers.l2(0.001))(model)\n",
        "  model = BatchNormalization()(model)\n",
        "  model = Dense(32,activation='relu',kernel_initializer='he_normal',kernel_regularizer=regularizers.l2(0.001))(model)\n",
        "  model = BatchNormalization()(model)\n",
        "  predictions = Dense(len(CLASSES), activation='softmax')(model)\n",
        "\n",
        "  model = Model(inputs = inputs, outputs = predictions)\n",
        "  return model\n",
        "\n",
        "model = build_model()"
      ],
      "execution_count": null,
      "outputs": [
        {
          "output_type": "stream",
          "text": [
            "Downloading data from https://storage.googleapis.com/tensorflow/keras-applications/resnet/resnet50_weights_tf_dim_ordering_tf_kernels_notop.h5\n",
            "94773248/94765736 [==============================] - 1s 0us/step\n"
          ],
          "name": "stdout"
        }
      ]
    },
    {
      "cell_type": "code",
      "metadata": {
        "colab": {
          "base_uri": "https://localhost:8080/"
        },
        "id": "fDa9P3SHh-k9",
        "outputId": "b116757a-9b28-4657-d296-c07025e84cd0"
      },
      "source": [
        "model.summary()"
      ],
      "execution_count": null,
      "outputs": [
        {
          "output_type": "stream",
          "text": [
            "Model: \"model\"\n",
            "_________________________________________________________________\n",
            "Layer (type)                 Output Shape              Param #   \n",
            "=================================================================\n",
            "input_1 (InputLayer)         [(None, 224, 224, 3)]     0         \n",
            "_________________________________________________________________\n",
            "sequential (Sequential)      (None, 224, 224, 3)       0         \n",
            "_________________________________________________________________\n",
            "resnet50 (Functional)        (None, 7, 7, 2048)        23587712  \n",
            "_________________________________________________________________\n",
            "global_average_pooling2d (Gl (None, 2048)              0         \n",
            "_________________________________________________________________\n",
            "dense (Dense)                (None, 512)               1049088   \n",
            "_________________________________________________________________\n",
            "batch_normalization (BatchNo (None, 512)               2048      \n",
            "_________________________________________________________________\n",
            "dense_1 (Dense)              (None, 128)               65664     \n",
            "_________________________________________________________________\n",
            "batch_normalization_1 (Batch (None, 128)               512       \n",
            "_________________________________________________________________\n",
            "dense_2 (Dense)              (None, 32)                4128      \n",
            "_________________________________________________________________\n",
            "batch_normalization_2 (Batch (None, 32)                128       \n",
            "_________________________________________________________________\n",
            "dense_3 (Dense)              (None, 5)                 165       \n",
            "=================================================================\n",
            "Total params: 24,709,445\n",
            "Trainable params: 24,654,981\n",
            "Non-trainable params: 54,464\n",
            "_________________________________________________________________\n"
          ],
          "name": "stdout"
        }
      ]
    },
    {
      "cell_type": "code",
      "metadata": {
        "id": "cobBGkvikYNY"
      },
      "source": [
        "# compile model\n",
        "model.compile(optimizer=Adam(learning_rate=LR), \n",
        "              loss='sparse_categorical_crossentropy', \n",
        "              metrics=['accuracy'])"
      ],
      "execution_count": null,
      "outputs": []
    },
    {
      "cell_type": "code",
      "metadata": {
        "id": "k7y3Xnw6BjKX"
      },
      "source": [
        "# set hyperparameters\n",
        "STEPS_PER_EPOCH = NUM_TRAINING_IMAGES // BATCH_SIZE\n",
        "VALID_STEPS = NUM_VALIDATION_IMAGES // BATCH_SIZE"
      ],
      "execution_count": null,
      "outputs": []
    },
    {
      "cell_type": "code",
      "metadata": {
        "id": "UvM7O-D9nJ6u"
      },
      "source": [
        "# get training and validation data\n",
        "train_dataset = get_training_dataset()\n",
        "valid_dataset = get_validation_dataset()"
      ],
      "execution_count": null,
      "outputs": []
    },
    {
      "cell_type": "code",
      "metadata": {
        "id": "O1mRc45n-nIK",
        "colab": {
          "base_uri": "https://localhost:8080/"
        },
        "outputId": "70c01ad3-d67b-4f43-a043-93cb63dc6d2a"
      },
      "source": [
        "# train model\n",
        "history = model.fit(train_dataset,\n",
        "                    steps_per_epoch=STEPS_PER_EPOCH,\n",
        "                    epochs=EPOCHS,\n",
        "                    validation_data=valid_dataset,\n",
        "                    callbacks=[callback]\n",
        "                    )"
      ],
      "execution_count": null,
      "outputs": [
        {
          "output_type": "stream",
          "text": [
            "Epoch 1/100\n",
            "1002/1002 [==============================] - 183s 136ms/step - loss: 2.6819 - accuracy: 0.5259 - val_loss: 2.2054 - val_accuracy: 0.7072\n",
            "Epoch 2/100\n",
            "1002/1002 [==============================] - 130s 130ms/step - loss: 2.0854 - accuracy: 0.7395 - val_loss: 1.9301 - val_accuracy: 0.7773\n",
            "Epoch 3/100\n",
            "1002/1002 [==============================] - 131s 130ms/step - loss: 1.9180 - accuracy: 0.7453 - val_loss: 1.9269 - val_accuracy: 0.7171\n",
            "Epoch 4/100\n",
            "1002/1002 [==============================] - 128s 127ms/step - loss: 1.7123 - accuracy: 0.7657 - val_loss: 1.5729 - val_accuracy: 0.7866\n",
            "Epoch 5/100\n",
            "1002/1002 [==============================] - 130s 130ms/step - loss: 1.5634 - accuracy: 0.7682 - val_loss: 1.4255 - val_accuracy: 0.7855\n",
            "Epoch 6/100\n",
            "1002/1002 [==============================] - 129s 129ms/step - loss: 1.3786 - accuracy: 0.7825 - val_loss: 1.3661 - val_accuracy: 0.7450\n",
            "Epoch 7/100\n",
            "1002/1002 [==============================] - 128s 128ms/step - loss: 1.2182 - accuracy: 0.7858 - val_loss: 1.0908 - val_accuracy: 0.7997\n",
            "Epoch 8/100\n",
            "1002/1002 [==============================] - 129s 128ms/step - loss: 1.0811 - accuracy: 0.7908 - val_loss: 1.0759 - val_accuracy: 0.7687\n",
            "Epoch 9/100\n",
            "1002/1002 [==============================] - 131s 130ms/step - loss: 0.9578 - accuracy: 0.7993 - val_loss: 0.8802 - val_accuracy: 0.8102\n",
            "Epoch 10/100\n",
            "1002/1002 [==============================] - 130s 130ms/step - loss: 0.8883 - accuracy: 0.8047 - val_loss: 0.9366 - val_accuracy: 0.7678\n",
            "Epoch 11/100\n",
            "1002/1002 [==============================] - 129s 129ms/step - loss: 0.8147 - accuracy: 0.8086 - val_loss: 0.7892 - val_accuracy: 0.8027\n",
            "Epoch 12/100\n",
            "1002/1002 [==============================] - 130s 129ms/step - loss: 0.7650 - accuracy: 0.8120 - val_loss: 0.6970 - val_accuracy: 0.8343\n",
            "Epoch 13/100\n",
            "1002/1002 [==============================] - 130s 130ms/step - loss: 0.7340 - accuracy: 0.8150 - val_loss: 0.6901 - val_accuracy: 0.8249\n",
            "Epoch 14/100\n",
            "1002/1002 [==============================] - 130s 130ms/step - loss: 0.6963 - accuracy: 0.8165 - val_loss: 0.8892 - val_accuracy: 0.7201\n",
            "Epoch 15/100\n",
            "1002/1002 [==============================] - 130s 130ms/step - loss: 0.6858 - accuracy: 0.8146 - val_loss: 0.7432 - val_accuracy: 0.7963\n",
            "Epoch 16/100\n",
            "1002/1002 [==============================] - 128s 127ms/step - loss: 0.6557 - accuracy: 0.8217 - val_loss: 0.6486 - val_accuracy: 0.8210\n",
            "Epoch 17/100\n",
            "1002/1002 [==============================] - 129s 129ms/step - loss: 0.6251 - accuracy: 0.8266 - val_loss: 0.6585 - val_accuracy: 0.8145\n",
            "Epoch 18/100\n",
            "1002/1002 [==============================] - 130s 130ms/step - loss: 0.6158 - accuracy: 0.8320 - val_loss: 0.6265 - val_accuracy: 0.8313\n",
            "Epoch 19/100\n",
            "1002/1002 [==============================] - 130s 129ms/step - loss: 0.6010 - accuracy: 0.8306 - val_loss: 0.9619 - val_accuracy: 0.6975\n",
            "Epoch 20/100\n",
            "1002/1002 [==============================] - 130s 130ms/step - loss: 0.5828 - accuracy: 0.8413 - val_loss: 0.5464 - val_accuracy: 0.8444\n",
            "Epoch 21/100\n",
            "1002/1002 [==============================] - 130s 130ms/step - loss: 0.5763 - accuracy: 0.8338 - val_loss: 0.6104 - val_accuracy: 0.8199\n",
            "Epoch 22/100\n",
            "1002/1002 [==============================] - 130s 130ms/step - loss: 0.5694 - accuracy: 0.8370 - val_loss: 0.6877 - val_accuracy: 0.7876\n",
            "Epoch 23/100\n",
            "1002/1002 [==============================] - 130s 129ms/step - loss: 0.5531 - accuracy: 0.8403 - val_loss: 0.5706 - val_accuracy: 0.8288\n",
            "Epoch 24/100\n",
            "1002/1002 [==============================] - 130s 129ms/step - loss: 0.5294 - accuracy: 0.8491 - val_loss: 0.5137 - val_accuracy: 0.8524\n",
            "Epoch 25/100\n",
            "1002/1002 [==============================] - 129s 129ms/step - loss: 0.5238 - accuracy: 0.8417 - val_loss: 0.6331 - val_accuracy: 0.8023\n",
            "Epoch 26/100\n",
            "1002/1002 [==============================] - 130s 130ms/step - loss: 0.5144 - accuracy: 0.8519 - val_loss: 0.5976 - val_accuracy: 0.8148\n",
            "Epoch 27/100\n",
            "1002/1002 [==============================] - 130s 130ms/step - loss: 0.5122 - accuracy: 0.8502 - val_loss: 0.4960 - val_accuracy: 0.8531\n",
            "Epoch 28/100\n",
            "1002/1002 [==============================] - 130s 130ms/step - loss: 0.4898 - accuracy: 0.8546 - val_loss: 0.5632 - val_accuracy: 0.8242\n",
            "Epoch 29/100\n",
            "1002/1002 [==============================] - 130s 130ms/step - loss: 0.4973 - accuracy: 0.8518 - val_loss: 0.7346 - val_accuracy: 0.7950\n",
            "Epoch 30/100\n",
            "1002/1002 [==============================] - 130s 129ms/step - loss: 0.4816 - accuracy: 0.8565 - val_loss: 0.6135 - val_accuracy: 0.8223\n",
            "Epoch 31/100\n",
            "1002/1002 [==============================] - 130s 130ms/step - loss: 0.4845 - accuracy: 0.8546 - val_loss: 0.5341 - val_accuracy: 0.8430\n",
            "Epoch 32/100\n",
            "1002/1002 [==============================] - 130s 130ms/step - loss: 0.4786 - accuracy: 0.8577 - val_loss: 0.5851 - val_accuracy: 0.7995\n",
            "Epoch 33/100\n",
            "1002/1002 [==============================] - 130s 130ms/step - loss: 0.4598 - accuracy: 0.8615 - val_loss: 0.5490 - val_accuracy: 0.8277\n",
            "Epoch 34/100\n",
            "1002/1002 [==============================] - 130s 130ms/step - loss: 0.4619 - accuracy: 0.8609 - val_loss: 0.5010 - val_accuracy: 0.8528\n",
            "Epoch 35/100\n",
            "1002/1002 [==============================] - 130s 130ms/step - loss: 0.4636 - accuracy: 0.8574 - val_loss: 0.4902 - val_accuracy: 0.8528\n",
            "Epoch 36/100\n",
            "1002/1002 [==============================] - 130s 129ms/step - loss: 0.4439 - accuracy: 0.8641 - val_loss: 0.5954 - val_accuracy: 0.8195\n",
            "Epoch 37/100\n",
            "1002/1002 [==============================] - 130s 130ms/step - loss: 0.4599 - accuracy: 0.8594 - val_loss: 0.5775 - val_accuracy: 0.8191\n",
            "Epoch 38/100\n",
            "1002/1002 [==============================] - 131s 130ms/step - loss: 0.4479 - accuracy: 0.8615 - val_loss: 0.5736 - val_accuracy: 0.8135\n",
            "Epoch 39/100\n",
            "1002/1002 [==============================] - 131s 131ms/step - loss: 0.4376 - accuracy: 0.8666 - val_loss: 0.5191 - val_accuracy: 0.8367\n",
            "Epoch 40/100\n",
            "1002/1002 [==============================] - 130s 130ms/step - loss: 0.4322 - accuracy: 0.8662 - val_loss: 0.5696 - val_accuracy: 0.8231\n",
            "Epoch 41/100\n",
            "1002/1002 [==============================] - 130s 129ms/step - loss: 0.4176 - accuracy: 0.8688 - val_loss: 0.5479 - val_accuracy: 0.8221\n",
            "Epoch 42/100\n",
            "1002/1002 [==============================] - 129s 129ms/step - loss: 0.4194 - accuracy: 0.8709 - val_loss: 0.5164 - val_accuracy: 0.8440\n",
            "Epoch 43/100\n",
            "1002/1002 [==============================] - 130s 129ms/step - loss: 0.4186 - accuracy: 0.8726 - val_loss: 0.5611 - val_accuracy: 0.8150\n",
            "Epoch 44/100\n",
            "1002/1002 [==============================] - 130s 130ms/step - loss: 0.4090 - accuracy: 0.8780 - val_loss: 0.5185 - val_accuracy: 0.8436\n",
            "Epoch 45/100\n",
            "1002/1002 [==============================] - 130s 130ms/step - loss: 0.4048 - accuracy: 0.8737 - val_loss: 0.5100 - val_accuracy: 0.8410\n"
          ],
          "name": "stdout"
        }
      ]
    },
    {
      "cell_type": "code",
      "metadata": {
        "id": "AEUoXeJg1mWb",
        "colab": {
          "base_uri": "https://localhost:8080/",
          "height": 299
        },
        "outputId": "2be1fb8a-5a54-41bf-b903-f17ded9c6d8b"
      },
      "source": [
        "# plot results\n",
        "import matplotlib.pyplot as plt\n",
        "\n",
        "N = 45\n",
        "plt.style.use(\"ggplot\")\n",
        "plt.figure()\n",
        "plt.plot(np.arange(0, N), history.history[\"accuracy\"], label=\"Train Accuracy\")\n",
        "plt.plot(np.arange(0, N), history.history[\"val_accuracy\"], label=\"Validation Accuracy\")\n",
        "plt.plot(np.arange(0, N), history.history[\"loss\"], label=\"Train Loss\")\n",
        "plt.plot(np.arange(0, N), history.history[\"val_loss\"], label=\"Validation Loss\")\n",
        "plt.title(\"Loss and Accuracy Plot\")\n",
        "plt.xlabel(\"Epoch\")\n",
        "plt.legend(bbox_to_anchor=(1.05, 1.0), loc='upper left')\n",
        "plt.savefig(\"midterm_plot.png\")"
      ],
      "execution_count": null,
      "outputs": [
        {
          "output_type": "display_data",
          "data": {
            "image/png": "[encoded data removed]",
            "text/plain": [
              "<Figure size 432x288 with 1 Axes>"
            ]
          },
          "metadata": {
            "tags": []
          }
        }
      ]
    },
    {
      "cell_type": "code",
      "metadata": {
        "colab": {
          "base_uri": "https://localhost:8080/"
        },
        "id": "IHbwUThVspGV",
        "outputId": "a695f417-8786-48e2-d9a4-485acd62c9af"
      },
      "source": [
        "# save model\n",
        "# https://colab.research.google.com/github/tensorflow/examples/blob/master/courses/udacity_intro_to_tensorflow_for_deep_learning/l07c01_saving_and_loading_models.ipynb#scrollTo=OGNpmn43C0O6\n",
        "\n",
        "import time\n",
        "t = time.time()\n",
        "\n",
        "export_path_keras = \"./{}.h5\".format(int(t))\n",
        "print(export_path_keras)\n",
        "\n",
        "model.save(export_path_keras)\n",
        "\n",
        "export_path_sm = \"./{}\".format(int(t))\n",
        "print(export_path_sm)\n",
        "\n",
        "tf.saved_model.save(model, export_path_sm)"
      ],
      "execution_count": null,
      "outputs": [
        {
          "output_type": "stream",
          "text": [
            "./1616279558.h5\n",
            "./1616279558\n",
            "INFO:tensorflow:Assets written to: ./1616279558/assets\n"
          ],
          "name": "stdout"
        }
      ]
    },
    {
      "cell_type": "code",
      "metadata": {
        "id": "k8gvOT7MvE1W",
        "colab": {
          "base_uri": "https://localhost:8080/",
          "height": 136
        },
        "outputId": "8d942ea6-c4cb-4758-cd3d-3fc39a326b89"
      },
      "source": [
        "# download model to computer\n",
        "\n",
        "!zip -r model.zip {export_path_sm}\n",
        "\n",
        "try:\n",
        "  from google.colab import files\n",
        "  files.download('./model.zip')\n",
        "except ImportError:\n",
        "  pass"
      ],
      "execution_count": null,
      "outputs": [
        {
          "output_type": "stream",
          "text": [
            "updating: 1616279558/ (stored 0%)\n",
            "updating: 1616279558/variables/ (stored 0%)\n",
            "updating: 1616279558/variables/variables.data-00000-of-00001 (deflated 7%)\n",
            "updating: 1616279558/variables/variables.index (deflated 80%)\n",
            "updating: 1616279558/assets/ (stored 0%)\n",
            "updating: 1616279558/saved_model.pb (deflated 92%)\n"
          ],
          "name": "stdout"
        },
        {
          "output_type": "display_data",
          "data": {
            "application/javascript": [
              "\n",
              "    async function download(id, filename, size) {\n",
              "      if (!google.colab.kernel.accessAllowed) {\n",
              "        return;\n",
              "      }\n",
              "      const div = document.createElement('div');\n",
              "      const label = document.createElement('label');\n",
              "      label.textContent = `Downloading \"${filename}\": `;\n",
              "      div.appendChild(label);\n",
              "      const progress = document.createElement('progress');\n",
              "      progress.max = size;\n",
              "      div.appendChild(progress);\n",
              "      document.body.appendChild(div);\n",
              "\n",
              "      const buffers = [];\n",
              "      let downloaded = 0;\n",
              "\n",
              "      const channel = await google.colab.kernel.comms.open(id);\n",
              "      // Send a message to notify the kernel that we're ready.\n",
              "      channel.send({})\n",
              "\n",
              "      for await (const message of channel.messages) {\n",
              "        // Send a message to notify the kernel that we're ready.\n",
              "        channel.send({})\n",
              "        if (message.buffers) {\n",
              "          for (const buffer of message.buffers) {\n",
              "            buffers.push(buffer);\n",
              "            downloaded += buffer.byteLength;\n",
              "            progress.value = downloaded;\n",
              "          }\n",
              "        }\n",
              "      }\n",
              "      const blob = new Blob(buffers, {type: 'application/binary'});\n",
              "      const a = document.createElement('a');\n",
              "      a.href = window.URL.createObjectURL(blob);\n",
              "      a.download = filename;\n",
              "      div.appendChild(a);\n",
              "      a.click();\n",
              "      div.remove();\n",
              "    }\n",
              "  "
            ],
            "text/plain": [
              "<IPython.core.display.Javascript object>"
            ]
          },
          "metadata": {
            "tags": []
          }
        },
        {
          "output_type": "display_data",
          "data": {
            "application/javascript": [
              "download(\"download_edda8f1a-a3ef-4aba-bb63-49dcacd18b45\", \"model.zip\", 274992281)"
            ],
            "text/plain": [
              "<IPython.core.display.Javascript object>"
            ]
          },
          "metadata": {
            "tags": []
          }
        }
      ]
    }
  ]
}